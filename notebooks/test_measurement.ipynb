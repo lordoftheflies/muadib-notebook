{
 "cells": [
  {
   "cell_type": "code",
   "execution_count": 3,
   "metadata": {},
   "outputs": [],
   "source": [
    "import ipywidgets as widgets\n",
    "import datetime"
   ]
  },
  {
   "cell_type": "markdown",
   "metadata": {},
   "source": [
    "# Mérés tulajdonságai"
   ]
  },
  {
   "cell_type": "code",
   "execution_count": 4,
   "metadata": {},
   "outputs": [
    {
     "data": {
      "application/vnd.jupyter.widget-view+json": {
       "model_id": "ab72976b5c5240138c70a7e33c5578ca",
       "version_major": 2,
       "version_minor": 0
      },
      "text/plain": [
       "Text(value='2018-04-02 22:41:00.994899', description='Mérés neve:')"
      ]
     },
     "metadata": {},
     "output_type": "display_data"
    }
   ],
   "source": [
    "widgets.Text(description='Mérés neve:', value=str(datetime.datetime.now()), disabled=False)"
   ]
  },
  {
   "cell_type": "markdown",
   "metadata": {},
   "source": [
    "## Műszerek inicializálása"
   ]
  },
  {
   "cell_type": "markdown",
   "metadata": {},
   "source": [
    "Narda műszerfal"
   ]
  },
  {
   "cell_type": "code",
   "execution_count": 5,
   "metadata": {},
   "outputs": [],
   "source": [
    "start_frequency = widgets.IntSlider(\n",
    "    value=7,\n",
    "    min=10000, \n",
    "    max=30000000,\n",
    "    step=1,\n",
    "    description='Start frekvencia',\n",
    "    disabled=False,\n",
    "    continuous_update=False,\n",
    "    orientation='horizontal',\n",
    "    readout=True,\n",
    "    readout_format='d'\n",
    ")\n",
    "stop_frequency = widgets.IntSlider(\n",
    "    value=7,\n",
    "    min=10000, \n",
    "    max=30000000,\n",
    "    step=1,\n",
    "    description='Stop frekvencia',\n",
    "    disabled=False,\n",
    "    continuous_update=False,\n",
    "    orientation='horizontal',\n",
    "    readout=True,\n",
    "    readout_format='d'\n",
    ")"
   ]
  },
  {
   "cell_type": "code",
   "execution_count": 6,
   "metadata": {},
   "outputs": [
    {
     "data": {
      "application/vnd.jupyter.widget-view+json": {
       "model_id": "132bd37ca66946819216b3acacea88cb",
       "version_major": 2,
       "version_minor": 0
      },
      "text/plain": [
       "HBox(children=(IntSlider(value=10000, continuous_update=False, description='Start frekvencia', max=30000000, m…"
      ]
     },
     "metadata": {},
     "output_type": "display_data"
    },
    {
     "data": {
      "application/vnd.jupyter.widget-view+json": {
       "model_id": "11a3c3b4a5e944cc9271f0b54bc6af8f",
       "version_major": 2,
       "version_minor": 0
      },
      "text/plain": [
       "HBox(children=(Dropdown(description='RBW:', index=5, options={'20 kHz': '20000', '500 Hz': '500', '30 Hz': '30…"
      ]
     },
     "metadata": {},
     "output_type": "display_data"
    },
    {
     "data": {
      "application/vnd.jupyter.widget-view+json": {
       "model_id": "06d0f150d6ab4dfeb6104cf49e549c59",
       "version_major": 2,
       "version_minor": 0
      },
      "text/plain": [
       "IntText(value=2001, description='Pontok száma:')"
      ]
     },
     "metadata": {},
     "output_type": "display_data"
    },
    {
     "data": {
      "application/vnd.jupyter.widget-view+json": {
       "model_id": "5943f98388784084a56c0ea1de83b06b",
       "version_major": 2,
       "version_minor": 0
      },
      "text/plain": [
       "HBox(children=(Dropdown(description='Átlagolási szám:', index=4, options={'64': '64', '16': '16', '32': '32', …"
      ]
     },
     "metadata": {},
     "output_type": "display_data"
    },
    {
     "data": {
      "application/vnd.jupyter.widget-view+json": {
       "model_id": "9ff7434d13fe4bb7bdd6601d54b6ba0b",
       "version_major": 2,
       "version_minor": 0
      },
      "text/plain": [
       "IntText(value=10, description='Mérési idő:')"
      ]
     },
     "metadata": {},
     "output_type": "display_data"
    },
    {
     "data": {
      "application/vnd.jupyter.widget-view+json": {
       "model_id": "d24090f685c248c1aeb5721d46c5f87d",
       "version_major": 2,
       "version_minor": 0
      },
      "text/plain": [
       "Dropdown(description='Detektor:', index=1, options={'PLUS_PEAK': 'PLUS_PEAK', 'RMS': 'RMS', 'OFF': 'OFF', 'MIN…"
      ]
     },
     "metadata": {},
     "output_type": "display_data"
    },
    {
     "data": {
      "application/vnd.jupyter.widget-view+json": {
       "model_id": "a4e32d1c9ba54b2f9821819458c592c1",
       "version_major": 2,
       "version_minor": 0
      },
      "text/plain": [
       "IntText(value=10, description='Mintavételi periódus:')"
      ]
     },
     "metadata": {},
     "output_type": "display_data"
    },
    {
     "data": {
      "application/vnd.jupyter.widget-view+json": {
       "model_id": "7f1afcba85bc412f853688b9dd4395c6",
       "version_major": 2,
       "version_minor": 0
      },
      "text/plain": [
       "Dropdown(description='Trace móde:', options={'ACT': 'ACT', 'AVG': 'AVG', 'MIN_AVG': 'MIN_AVG', 'MIN': 'MIN', '…"
      ]
     },
     "metadata": {},
     "output_type": "display_data"
    },
    {
     "data": {
      "application/vnd.jupyter.widget-view+json": {
       "model_id": "fcb09b64245a41b7a171ff9907757806",
       "version_major": 2,
       "version_minor": 0
      },
      "text/plain": [
       "Dropdown(description='Referencia szint:', index=3, options=(('87', '-20'), ('97', '-10'), ('107', '0'), ('117'…"
      ]
     },
     "metadata": {},
     "output_type": "display_data"
    },
    {
     "data": {
      "application/vnd.jupyter.widget-view+json": {
       "model_id": "75b054d888a9429aa78d0cf2187fe2bf",
       "version_major": 2,
       "version_minor": 0
      },
      "text/plain": [
       "IntText(value=100, description='Átlagolási idő:')"
      ]
     },
     "metadata": {},
     "output_type": "display_data"
    },
    {
     "data": {
      "application/vnd.jupyter.widget-view+json": {
       "model_id": "07d261bfd658463b82609eca37492c5c",
       "version_major": 2,
       "version_minor": 0
      },
      "text/plain": [
       "Button(description='Műszer konfigurálása', icon='check', style=ButtonStyle(), tooltip='Click me')"
      ]
     },
     "metadata": {},
     "output_type": "display_data"
    }
   ],
   "source": [
    "rbw_f = widgets.Dropdown(\n",
    "    options={\n",
    "        '10 Hz': '10',\n",
    "        '20 Hz': '20',\n",
    "        '30 Hz': '30',\n",
    "        '50 Hz': '50',\n",
    "        '100 Hz': '100', \n",
    "        '200 Hz': '200',\n",
    "        '300 Hz': '300', \n",
    "        '500 Hz': '500',\n",
    "        '1 kHz': '1000',\n",
    "        '2 kHz': '2000', \n",
    "        '3 kHz': '3000',\n",
    "        '5 kHz': '5000',\n",
    "        '10 kHz': '10000',\n",
    "        '20 kHz': '20000'\n",
    "    },\n",
    "    value='10',\n",
    "    description='RBW:',\n",
    ")\n",
    "vbw_f = widgets.Dropdown(\n",
    "    options={\n",
    "        '10 Hz': '10',\n",
    "        '20 Hz': '20',\n",
    "        '30 Hz': '30',\n",
    "        '50 Hz': '50',\n",
    "        '100 Hz': '100', \n",
    "        '200 Hz': '200',\n",
    "        '300 Hz': '300', \n",
    "        '500 Hz': '500',\n",
    "        '1 kHz': '1000'\n",
    "    },\n",
    "    value='10',\n",
    "    description='VBW:',\n",
    ")\n",
    "vbw_mode_f = widgets.Dropdown(\n",
    "    options={\n",
    "        'On': 'True',\n",
    "        'Off': 'False'\n",
    "    },\n",
    "    value='False',\n",
    "    description='VBW mód:',\n",
    "    disabled=False\n",
    ")\n",
    "det_f = widgets.Dropdown(\n",
    "    options={\n",
    "        'OFF': 'OFF', \n",
    "        'RMS': 'RMS', \n",
    "        'PLUS_PEAK': 'PLUS_PEAK',\n",
    "        'MINUS_PEAK': 'MINUS_PEAK'\n",
    "    },\n",
    "    value='RMS',\n",
    "    description='Detektor:',\n",
    "    disabled=False\n",
    ")\n",
    "avg_f = widgets.Dropdown(\n",
    "    options={\n",
    "        '4': '4', \n",
    "        '8': '8',\n",
    "        '16': '16', \n",
    "        '32': '32',\n",
    "        '64': '64', \n",
    "        '128': '128',\n",
    "        '256': '256'\n",
    "    },\n",
    "    value='4',\n",
    "    description='Átlagolási szám:',\n",
    "    disabled=False\n",
    ")\n",
    "no_val_f = widgets.IntText(\n",
    "    value=2001,\n",
    "    min=21, \n",
    "    max=632891,\n",
    "    description='Pontok száma:',\n",
    "    disabled=False\n",
    ")\n",
    "interval = widgets.IntText(\n",
    "    value=10,\n",
    "    description='Mérési idő:',\n",
    "    disabled=False\n",
    ")\n",
    "period = widgets.IntText(\n",
    "    value=10,\n",
    "    description='Mintavételi periódus:',\n",
    "    disabled=False\n",
    ")\n",
    "tracemode_f = widgets.Dropdown(\n",
    "    options={\n",
    "        'ACT': 'ACT', \n",
    "        'AVG': 'AVG', \n",
    "        'MAX': 'MAX', \n",
    "        'MAX_AVG': 'MAX_AVG',\n",
    "        'MIN': 'MIN',\n",
    "        'MIN_AVG': 'MIN_AVG'\n",
    "    },\n",
    "    value='ACT',\n",
    "    description='Trace móde:',\n",
    "    disabled=False\n",
    ")\n",
    "ref_level_f = widgets.Dropdown(\n",
    "    options=[\n",
    "        ('87', '-20',),\n",
    "        ('97', '-10', ),\n",
    "        ('107', '0', ), \n",
    "        ('117', '10', ),\n",
    "        ('127', '20',)\n",
    "    ],\n",
    "    value='10',\n",
    "    description='Referencia szint:',\n",
    "    disabled=False\n",
    ")\n",
    "avg_time_f = widgets.IntText(\n",
    "    value=10,\n",
    "    description='Átlagolási idő:',\n",
    "    disabled=False\n",
    ")\n",
    "avg_stat =  widgets.Dropdown(\n",
    "    options={\n",
    "        'Kikapcsolva': 'False',\n",
    "        'Bekapcsolva': 'True'\n",
    "    },\n",
    "    value='False',\n",
    "    description='AVG stat:',\n",
    "    disabled=False\n",
    ")\n",
    "avg_mode_f = widgets.Dropdown(\n",
    "    options=[\n",
    "        ('NUMBER', 'NUMBER'), \n",
    "        ('TIME', 'TIME')\n",
    "    ],\n",
    "    value='NUMBER',\n",
    "    description='AVG MODE F:',\n",
    "    disabled=False\n",
    ")\n",
    "sweep_time= widgets.IntText(\n",
    "    value=100,\n",
    "    description='Átlagolási idő:',\n",
    "    disabled=False\n",
    ")\n",
    "submit_config_button = widgets.Button(\n",
    "    description='Műszer konfigurálása',\n",
    "    disabled=False,\n",
    "    button_style='', # 'success', 'info', 'warning', 'danger' or ''\n",
    "    tooltip='Click me',\n",
    "    icon='check'\n",
    ")\n",
    "\n",
    "display(widgets.HBox([start_frequency, stop_frequency]))\n",
    "display(widgets.HBox([rbw_f, vbw_f, vbw_mode_f]))\n",
    "display(no_val_f)\n",
    "display(widgets.HBox([avg_f, avg_time_f, avg_stat, avg_mode_f]))\n",
    "display(interval)\n",
    "display(det_f)\n",
    "display(period)\n",
    "display(tracemode_f)\n",
    "display(ref_level_f)\n",
    "display(sweep_time)\n",
    "display(submit_config_button)"
   ]
  },
  {
   "cell_type": "code",
   "execution_count": 7,
   "metadata": {},
   "outputs": [
    {
     "data": {
      "application/vnd.jupyter.widget-view+json": {
       "model_id": "307d8cd85ff14c70a01a1d9ab127c7a0",
       "version_major": 2,
       "version_minor": 0
      },
      "text/plain": [
       "HTMLMath(value='$$\\\\frac{f_b - f_e}{n}$$', description='Mérési tick:')"
      ]
     },
     "metadata": {},
     "output_type": "display_data"
    }
   ],
   "source": [
    "tick_value = widgets.HTMLMath(\n",
    "    value=r\"$$\\frac{f_b - f_e}{n}$$\",\n",
    "    description='Mérési tick:',\n",
    ")\n",
    "display(tick_value)"
   ]
  },
  {
   "cell_type": "markdown",
   "metadata": {},
   "source": [
    "Adatfeldolgozás"
   ]
  },
  {
   "cell_type": "markdown",
   "metadata": {},
   "source": [
    "Utófeldolgozás"
   ]
  },
  {
   "cell_type": "code",
   "execution_count": null,
   "metadata": {},
   "outputs": [],
   "source": []
  }
 ],
 "metadata": {
  "kernelspec": {
   "display_name": "Python 3",
   "language": "python",
   "name": "python3"
  },
  "language_info": {
   "codemirror_mode": {
    "name": "ipython",
    "version": 3
   },
   "file_extension": ".py",
   "mimetype": "text/x-python",
   "name": "python",
   "nbconvert_exporter": "python",
   "pygments_lexer": "ipython3",
   "version": "3.5.2"
  }
 },
 "nbformat": 4,
 "nbformat_minor": 2
}
