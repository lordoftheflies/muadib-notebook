{
 "cells": [
  {
   "cell_type": "code",
   "execution_count": 1,
   "metadata": {},
   "outputs": [
    {
     "name": "stdout",
     "output_type": "stream",
     "text": [
      "This is a simple notebook.\n"
     ]
    }
   ],
   "source": [
    "print('This is a simple notebook.')"
   ]
  },
  {
   "cell_type": "code",
   "execution_count": 2,
   "metadata": {},
   "outputs": [],
   "source": [
    "class SampleClass(object):\n",
    "    \n",
    "    def sample_method(self):\n",
    "        print('execute sample_method')\n",
    "        pass\n",
    "\n",
    "    def sample_method_with_output(self):\n",
    "        print('execute sample_method_with_output')\n",
    "        return 'output'\n",
    "\n",
    "    def sample_method_with_inoutput(self, param, *args, **kwargs):\n",
    "        print('execute sample_method_with_inoutput(%s, %s, %s)' % (param, args, kwargs))\n",
    "        return 'output'\n",
    "    \n",
    "    def __str__(self):\n",
    "        return 'sample_class'\n",
    "    \n",
    "sample_integer = 1\n",
    "sample_float = 1.0\n",
    "sample_strng = 'hello'\n",
    "sample_list = [1, 2, 3]\n",
    "sample_tuple = ('alma', 'korte',)\n",
    "sample_object = object()\n",
    "sample_dictionary = dict(dinnye=10)\n",
    "sample_instance = SampleClass()"
   ]
  },
  {
   "cell_type": "code",
   "execution_count": 3,
   "metadata": {},
   "outputs": [
    {
     "name": "stdout",
     "output_type": "stream",
     "text": [
      "1\n",
      "1.0\n",
      "hello\n",
      "[1, 2, 3]\n",
      "('alma', 'korte')\n",
      "<object object at 0x7f635f24a470>\n",
      "{'dinnye': 10}\n",
      "sample_class\n"
     ]
    }
   ],
   "source": [
    "print(str(sample_integer))\n",
    "print(str(sample_float))\n",
    "print(str(sample_strng))\n",
    "print(str(sample_list))\n",
    "print(str(sample_tuple))\n",
    "print(str(sample_object))\n",
    "print(str(sample_dictionary))\n",
    "print(str(sample_instance))\n"
   ]
  },
  {
   "cell_type": "code",
   "execution_count": 4,
   "metadata": {},
   "outputs": [
    {
     "name": "stdout",
     "output_type": "stream",
     "text": [
      "dddd\n"
     ]
    }
   ],
   "source": [
    "print('dddd')"
   ]
  },
  {
   "cell_type": "code",
   "execution_count": 5,
   "metadata": {},
   "outputs": [],
   "source": []
  }
 ],
 "metadata": {
  "kernelspec": {
   "display_name": "Python 3",
   "language": "python",
   "name": "python3"
  },
  "language_info": {
   "codemirror_mode": {
    "name": "ipython",
    "version": 3
   },
   "file_extension": ".py",
   "mimetype": "text/x-python",
   "name": "python",
   "nbconvert_exporter": "python",
   "pygments_lexer": "ipython3",
   "version": "3.5.2"
  }
 },
 "nbformat": 4,
 "nbformat_minor": 2
}
